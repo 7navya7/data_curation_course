{
 "cells": [
  {
   "cell_type": "markdown",
   "metadata": {},
   "source": [
    "## Assignment 2 Numpy and pandas\n",
    "\n",
    "This assignment will contain 3 questions with details as below. The due date is October 5 (Friday), 2018 23:59PM. Each late day will result in 20% loss of total points."
   ]
  },
  {
   "cell_type": "markdown",
   "metadata": {},
   "source": [
    "### Question 1 (30 points) Numpy is fast!\n",
    "\n",
    "Suppose we need to compute the cumulative sum of $\\sum_{i=0}^n \\alpha^i$ for given $\\alpha$ and $n$. \n",
    "\n",
    "For example, when $\\alpha=0.5$ and $n=10$, the cumulative sum of $\\sum_{i=0}^{10} 0.5^i$ returns `[1.0, 1.5, 1.75, 1.875, 1.9375, 1.96875, 1.984375, 1.9921875, 1.99609375, 1.998046875, 1.9990234375]`\n",
    "\n",
    "\n",
    "As a courtesy, I implement the following function `cum_sum` that can be used to generate a list of cumulative sum when iterating through a range generator."
   ]
  },
  {
   "cell_type": "code",
   "execution_count": null,
   "metadata": {
    "collapsed": true
   },
   "outputs": [],
   "source": [
    "def cum_sum(alpha, n):\n",
    "    current = 1.0\n",
    "    sum = current\n",
    "    for i in range(n):\n",
    "        current = current * alpha\n",
    "        sum = sum + current\n",
    "    return sum \n",
    "\n",
    "cumsum = []\n",
    "for i in range(11):\n",
    "    cumsum.append(cum_sum(0.5, i))\n",
    "    \n",
    "print(cumsum)"
   ]
  },
  {
   "cell_type": "markdown",
   "metadata": {},
   "source": [
    "We can calculate how much time does it spend to run this code using `time` module as below:"
   ]
  },
  {
   "cell_type": "code",
   "execution_count": null,
   "metadata": {
    "collapsed": true
   },
   "outputs": [],
   "source": [
    "import time\n",
    "\n",
    "begin = time.time()\n",
    "n_samples = 10000\n",
    "\n",
    "cumsum = []\n",
    "for i in range(n_samples):\n",
    "    cumsum.append(cum_sum(0.5, i))\n",
    "print(cumsum)\n",
    "    \n",
    "end = time.time()\n",
    "\n",
    "time0 = end-begin\n",
    "print(\"Time took to run: {} seconds.\".format(time0))"
   ]
  },
  {
   "cell_type": "markdown",
   "metadata": {},
   "source": [
    "It takes about 3.6 seconds on my machine to run the code with 10,000 samples. Note that this time may vary depending on the memory and CPU of your machine. \n",
    "\n",
    "**Question 1.1** (15 points) Now implement a list comprehension for the same purpose and estimate how much time does it take to generate a list of cumulative sum for 10,000 samples\n",
    "\n",
    "Hint: you can use the method accumulate in the module itertools. Check the documentation of itertools at [here](https://docs.python.org/3/library/itertools.html#itertools.accumulate)"
   ]
  },
  {
   "cell_type": "code",
   "execution_count": null,
   "metadata": {
    "collapsed": true
   },
   "outputs": [],
   "source": [
    "# Question 1\n",
    "\n",
    "\n",
    "begin = time.time()\n",
    "n_samples = 10000\n",
    "\n",
    "# write your code here\n",
    "\n",
    "\n",
    "\n",
    "end = time.time()\n",
    "\n",
    "time1 = end-begin\n",
    "\n",
    "print(\"Time took to run: {} seconds.\".format(time1))"
   ]
  },
  {
   "cell_type": "code",
   "execution_count": null,
   "metadata": {
    "collapsed": true
   },
   "outputs": [],
   "source": [
    "time0/time1"
   ]
  },
  {
   "cell_type": "markdown",
   "metadata": {},
   "source": [
    "**Question 1.2** (15 points) Now implement using numpy for the same purpose and estimate how much time does it take to generate a list of cumulative sum for 10,000 samples (in order to receive full score, your program must be at least 1500 times faster than the for loop)\n",
    "\n",
    "You may receive 5 bonus points if your program is at least 5000 times faster than the for loop!"
   ]
  },
  {
   "cell_type": "code",
   "execution_count": null,
   "metadata": {
    "collapsed": true
   },
   "outputs": [],
   "source": [
    "begin = time.time()\n",
    "n_samples = 10000\n",
    "alpha = 0.5\n",
    "# write your code here\n",
    "\n",
    "\n",
    "print(cumsum)\n",
    "end = time.time()\n",
    "\n",
    "time2 = end-begin\n",
    "\n",
    "print(\"Time took to run: {} seconds.\".format(time2))"
   ]
  },
  {
   "cell_type": "markdown",
   "metadata": {},
   "source": [
    "### Question 2 (30 points) Monte Carlo \n",
    "\n",
    "Monte Carlo is a city in Monacco where the famous Monte Carlo casino is located.\n",
    "\n",
    "![casino](http://www.casinomontecarlo.com/wp-content/uploads/2017/06/casino-de-monte-carlo-1100x358.jpg)\n",
    "\n",
    "In light of this, Monte Carlo methods (or Monte Carlo experiments) are a broad class of computational algorithms that rely on repeated random sampling to obtain numerical results. Their essential idea is using randomness to solve problems that might be deterministic in principle. They are often used in physical and mathematical problems and are most useful when it is difficult or impossible to use other approaches. Monte Carlo methods are mainly used in three problem classes: optimization, numerical integration, and generating draws from a probability distribution.\n",
    "\n",
    "**Estimate the Pi**\n",
    "\n",
    "In order to estimate the $\\pi$, the idea is to simulate random (x, y) points in a 2-D plane with domain as a square of side 1 unit. Imagine a circle inside the same domain with same diameter and inscribed into the square. We can generate a large number of uniformly distributed random points and plot them on the graph. These points can be in any position within the square i.e. between (0,0) and (1,1). We keep track of the total number of points, and the number of points that are inside the circle. If we divide the number of points within the circle, $N_{inner}$ by the total number of points, $N_{total}$, we should get a value that is an approximation of the ratio of the areas we calculated above, $\\pi/4$.\n",
    "\n",
    "Write a function `approximate_pi` with argument `number_simulations` to approximate the Pi value using Monte Carlo simulations. You may consider to use `numpy.random` to make random draws. \n",
    "\n",
    "Give a rough estimate about how many random draws you may need to achieve accuray of 99.999% (by comparing with numpy.pi)."
   ]
  },
  {
   "cell_type": "code",
   "execution_count": null,
   "metadata": {
    "collapsed": true
   },
   "outputs": [],
   "source": [
    "# Question 2\n",
    "\n"
   ]
  },
  {
   "cell_type": "markdown",
   "metadata": {},
   "source": [
    "### Question 3 (40 points) California housing\n",
    "\n",
    "We will explore the famous Califronia housing dataset. The original database is available from StatLib http://lib.stat.cmu.edu/datasets/\n",
    "\n",
    "\n",
    "The data contains 20,640 observations on 9 variables.\n",
    "This dataset contains the average house value as target variable\n",
    "and the following input variables (features): records\n",
    "the following for each tract in California: Median house price, median\n",
    "house age, average number of rooms per house, average number of bedrooms,\n",
    "average number of occupants, total number of houses, median income\n",
    "(in thousands of dollars), latitude and longitude.\n",
    "\n",
    "You can download the data from the Internet as:\n",
    "\n",
    "```python\n",
    "from sklearn.datasets.california_housing import fetch_california_housing\n",
    "\n",
    "cal_housing = fetch_california_housing()\n",
    "\n",
    "```\n",
    "\n",
    "The dataset has the following format:\n",
    "```\n",
    "    dataset : dict-like object with the following attributes:\n",
    "    dataset.data : ndarray, shape [20640, 8]\n",
    "        Each row corresponding to the 8 feature values in order.\n",
    "    dataset.target : numpy array of shape (20640,)\n",
    "        Each value corresponds to the average house value in units of 100,000.\n",
    "    dataset.feature_names : array of length 8\n",
    "        Array of ordered feature names used in the dataset.\n",
    "    dataset.DESCR : string\n",
    "        Description of the California housing dataset.\n",
    "```"
   ]
  },
  {
   "cell_type": "markdown",
   "metadata": {
    "collapsed": true
   },
   "source": [
    "** Question 3.1 ** (5 points) Create a dataframe of `california_housing` from the fetched dataset using the data, target and feature_names, shows how many observations/features"
   ]
  },
  {
   "cell_type": "code",
   "execution_count": null,
   "metadata": {
    "collapsed": true
   },
   "outputs": [],
   "source": []
  },
  {
   "cell_type": "markdown",
   "metadata": {},
   "source": [
    "** Question 3.2** (5 points) Show the descripive statistics of features"
   ]
  },
  {
   "cell_type": "code",
   "execution_count": null,
   "metadata": {
    "collapsed": true
   },
   "outputs": [],
   "source": []
  },
  {
   "cell_type": "markdown",
   "metadata": {},
   "source": [
    "** Question 3.3** (15 points) Compare the areas with houses having more than 25 years old with areas with houses having less than 10 years old, what do you find about their total rooms, total bedrooms, median household incomes?"
   ]
  },
  {
   "cell_type": "code",
   "execution_count": null,
   "metadata": {
    "collapsed": true
   },
   "outputs": [],
   "source": []
  },
  {
   "cell_type": "markdown",
   "metadata": {},
   "source": [
    "** Question 3.4 ** (15 points) What is the difference between average median house price for households with top 20% of median houshold income and bottom 20% of median household income?"
   ]
  },
  {
   "cell_type": "code",
   "execution_count": null,
   "metadata": {
    "collapsed": true
   },
   "outputs": [],
   "source": []
  },
  {
   "cell_type": "code",
   "execution_count": null,
   "metadata": {
    "collapsed": true
   },
   "outputs": [],
   "source": []
  }
 ],
 "metadata": {
  "kernelspec": {
   "display_name": "Python 3",
   "language": "python",
   "name": "python3"
  },
  "language_info": {
   "codemirror_mode": {
    "name": "ipython",
    "version": 3
   },
   "file_extension": ".py",
   "mimetype": "text/x-python",
   "name": "python",
   "nbconvert_exporter": "python",
   "pygments_lexer": "ipython3",
   "version": "3.6.2"
  }
 },
 "nbformat": 4,
 "nbformat_minor": 2
}
