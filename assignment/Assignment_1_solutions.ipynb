{
 "cells": [
  {
   "cell_type": "markdown",
   "metadata": {},
   "source": [
    "## Assignment 1 Python Basics, Built-in Structures, Functions and Files\n",
    "\n",
    "This assignment will contain 5 assignments with details as below. The due date is September 21 (Friday), 2018 23:59PM. Each late day will result in 20% loss of total points."
   ]
  },
  {
   "cell_type": "markdown",
   "metadata": {},
   "source": [
    "### Question 1 (5 points) Love is complicated\n",
    "\n",
    "Try to import the `this` module and assign `love` to be `this` as:\n",
    "\n",
    "```python\n",
    "import this\n",
    "\n",
    "love = this\n",
    "```\n",
    "answer the following questions:\n",
    "(Hint: run the code and see the answers)\n",
    "1. this is love? \n",
    "2. love is True? \n",
    "3. love is False?\n",
    "4. love is not True or False?\n",
    "5. love is not True or False; love is love "
   ]
  },
  {
   "cell_type": "code",
   "execution_count": 1,
   "metadata": {},
   "outputs": [
    {
     "name": "stdout",
     "output_type": "stream",
     "text": [
      "The Zen of Python, by Tim Peters\n",
      "\n",
      "Beautiful is better than ugly.\n",
      "Explicit is better than implicit.\n",
      "Simple is better than complex.\n",
      "Complex is better than complicated.\n",
      "Flat is better than nested.\n",
      "Sparse is better than dense.\n",
      "Readability counts.\n",
      "Special cases aren't special enough to break the rules.\n",
      "Although practicality beats purity.\n",
      "Errors should never pass silently.\n",
      "Unless explicitly silenced.\n",
      "In the face of ambiguity, refuse the temptation to guess.\n",
      "There should be one-- and preferably only one --obvious way to do it.\n",
      "Although that way may not be obvious at first unless you're Dutch.\n",
      "Now is better than never.\n",
      "Although never is often better than *right* now.\n",
      "If the implementation is hard to explain, it's a bad idea.\n",
      "If the implementation is easy to explain, it may be a good idea.\n",
      "Namespaces are one honking great idea -- let's do more of those!\n"
     ]
    }
   ],
   "source": [
    "# Question 1\n",
    "\n",
    "import this\n",
    "\n",
    "love = this"
   ]
  },
  {
   "cell_type": "code",
   "execution_count": 2,
   "metadata": {},
   "outputs": [
    {
     "data": {
      "text/plain": [
       "True"
      ]
     },
     "execution_count": 2,
     "metadata": {},
     "output_type": "execute_result"
    }
   ],
   "source": [
    "this is love"
   ]
  },
  {
   "cell_type": "code",
   "execution_count": 3,
   "metadata": {},
   "outputs": [
    {
     "data": {
      "text/plain": [
       "False"
      ]
     },
     "execution_count": 3,
     "metadata": {},
     "output_type": "execute_result"
    }
   ],
   "source": [
    "love is True"
   ]
  },
  {
   "cell_type": "code",
   "execution_count": 4,
   "metadata": {},
   "outputs": [
    {
     "data": {
      "text/plain": [
       "False"
      ]
     },
     "execution_count": 4,
     "metadata": {},
     "output_type": "execute_result"
    }
   ],
   "source": [
    "love is False"
   ]
  },
  {
   "cell_type": "code",
   "execution_count": 5,
   "metadata": {},
   "outputs": [
    {
     "data": {
      "text/plain": [
       "True"
      ]
     },
     "execution_count": 5,
     "metadata": {},
     "output_type": "execute_result"
    }
   ],
   "source": [
    "love is not True or False"
   ]
  },
  {
   "cell_type": "code",
   "execution_count": 6,
   "metadata": {},
   "outputs": [
    {
     "data": {
      "text/plain": [
       "True"
      ]
     },
     "execution_count": 6,
     "metadata": {},
     "output_type": "execute_result"
    }
   ],
   "source": [
    "love is not True or False; love is love"
   ]
  },
  {
   "cell_type": "markdown",
   "metadata": {},
   "source": [
    "### Question 2 (15 points) Palindrome\n",
    "\n",
    "Palindrome refers to a word, phrase, or sequence that reads the same backwards as forwards, e.g. madam. Given the following words, write a for loop to check whether they are palindrome or not. \n",
    "\n",
    "```python\n",
    "if the word is a pallindrom:\n",
    "    print('The word is a palindrome')\n",
    "else:\n",
    "    print('The word is not a palindrome')\n",
    "```\n",
    "\n",
    "Hints: write a function to reverse the string and then check whether the original string is equal to the revserd string\n",
    "\n",
    "Example input: python\n",
    "\n",
    "Example output: ```The word python is not a palindrome``` \n",
    "\n",
    "Example input: ada\n",
    "\n",
    "Example output: ```The word ada is a palindrome``` "
   ]
  },
  {
   "cell_type": "code",
   "execution_count": 7,
   "metadata": {},
   "outputs": [
    {
     "name": "stdout",
     "output_type": "stream",
     "text": [
      "The word kayak is a palindrome\n",
      "The word apple is not a palindrome\n",
      "The word radar is a palindrome\n",
      "The word data is not a palindrome\n"
     ]
    }
   ],
   "source": [
    "# Question 2\n",
    "\n",
    "word1 = 'kayak'\n",
    "word2 = 'apple'\n",
    "word3 = 'radar'\n",
    "word4 = 'data'\n",
    "\n",
    "def isPallindrom(string):    \n",
    "    reverse_string = ''\n",
    "    \n",
    "    #reverse the sring\n",
    "    for i in range(len(string)):\n",
    "        reverse_string = reverse_string + string[len(string)-i-1]\n",
    "    \n",
    "    if string == reverse_string:\n",
    "        return True\n",
    "    else:\n",
    "        return False\n",
    "\n",
    "word_list = [word1, word2, word3, word4]\n",
    "\n",
    "for word in word_list:\n",
    "    if isPallindrom(word):\n",
    "        print(\"The word {} is a palindrome\".format(word))\n",
    "    else:\n",
    "        print(\"The word {} is not a palindrome\".format(word))"
   ]
  },
  {
   "cell_type": "markdown",
   "metadata": {},
   "source": [
    "### Question 3 (20 points) Find the prime numbers\n",
    "\n",
    "Write a program which will find all prime numbers between 0 and 10000 (both included).\n",
    "\n",
    "The numbers obtained should be printed in a comma-separated sequence on a single line.\n",
    "\n",
    "Hints: \n",
    "Consider use range(#begin, #end) method"
   ]
  },
  {
   "cell_type": "code",
   "execution_count": 8,
   "metadata": {},
   "outputs": [
    {
     "name": "stdout",
     "output_type": "stream",
     "text": [
      "Prime numbers between 0 and 10000 are: [2, 3, 5, 7, 11, 13, 17, 19, 23, 29, 31, 37, 41, 43, 47, 53, 59, 61, 67, 71, 73, 79, 83, 89, 97, 101, 103, 107, 109, 113, 127, 131, 137, 139, 149, 151, 157, 163, 167, 173, 179, 181, 191, 193, 197, 199, 211, 223, 227, 229, 233, 239, 241, 251, 257, 263, 269, 271, 277, 281, 283, 293, 307, 311, 313, 317, 331, 337, 347, 349, 353, 359, 367, 373, 379, 383, 389, 397, 401, 409, 419, 421, 431, 433, 439, 443, 449, 457, 461, 463, 467, 479, 487, 491, 499, 503, 509, 521, 523, 541, 547, 557, 563, 569, 571, 577, 587, 593, 599, 601, 607, 613, 617, 619, 631, 641, 643, 647, 653, 659, 661, 673, 677, 683, 691, 701, 709, 719, 727, 733, 739, 743, 751, 757, 761, 769, 773, 787, 797, 809, 811, 821, 823, 827, 829, 839, 853, 857, 859, 863, 877, 881, 883, 887, 907, 911, 919, 929, 937, 941, 947, 953, 967, 971, 977, 983, 991, 997, 1009, 1013, 1019, 1021, 1031, 1033, 1039, 1049, 1051, 1061, 1063, 1069, 1087, 1091, 1093, 1097, 1103, 1109, 1117, 1123, 1129, 1151, 1153, 1163, 1171, 1181, 1187, 1193, 1201, 1213, 1217, 1223, 1229, 1231, 1237, 1249, 1259, 1277, 1279, 1283, 1289, 1291, 1297, 1301, 1303, 1307, 1319, 1321, 1327, 1361, 1367, 1373, 1381, 1399, 1409, 1423, 1427, 1429, 1433, 1439, 1447, 1451, 1453, 1459, 1471, 1481, 1483, 1487, 1489, 1493, 1499, 1511, 1523, 1531, 1543, 1549, 1553, 1559, 1567, 1571, 1579, 1583, 1597, 1601, 1607, 1609, 1613, 1619, 1621, 1627, 1637, 1657, 1663, 1667, 1669, 1693, 1697, 1699, 1709, 1721, 1723, 1733, 1741, 1747, 1753, 1759, 1777, 1783, 1787, 1789, 1801, 1811, 1823, 1831, 1847, 1861, 1867, 1871, 1873, 1877, 1879, 1889, 1901, 1907, 1913, 1931, 1933, 1949, 1951, 1973, 1979, 1987, 1993, 1997, 1999, 2003, 2011, 2017, 2027, 2029, 2039, 2053, 2063, 2069, 2081, 2083, 2087, 2089, 2099, 2111, 2113, 2129, 2131, 2137, 2141, 2143, 2153, 2161, 2179, 2203, 2207, 2213, 2221, 2237, 2239, 2243, 2251, 2267, 2269, 2273, 2281, 2287, 2293, 2297, 2309, 2311, 2333, 2339, 2341, 2347, 2351, 2357, 2371, 2377, 2381, 2383, 2389, 2393, 2399, 2411, 2417, 2423, 2437, 2441, 2447, 2459, 2467, 2473, 2477, 2503, 2521, 2531, 2539, 2543, 2549, 2551, 2557, 2579, 2591, 2593, 2609, 2617, 2621, 2633, 2647, 2657, 2659, 2663, 2671, 2677, 2683, 2687, 2689, 2693, 2699, 2707, 2711, 2713, 2719, 2729, 2731, 2741, 2749, 2753, 2767, 2777, 2789, 2791, 2797, 2801, 2803, 2819, 2833, 2837, 2843, 2851, 2857, 2861, 2879, 2887, 2897, 2903, 2909, 2917, 2927, 2939, 2953, 2957, 2963, 2969, 2971, 2999, 3001, 3011, 3019, 3023, 3037, 3041, 3049, 3061, 3067, 3079, 3083, 3089, 3109, 3119, 3121, 3137, 3163, 3167, 3169, 3181, 3187, 3191, 3203, 3209, 3217, 3221, 3229, 3251, 3253, 3257, 3259, 3271, 3299, 3301, 3307, 3313, 3319, 3323, 3329, 3331, 3343, 3347, 3359, 3361, 3371, 3373, 3389, 3391, 3407, 3413, 3433, 3449, 3457, 3461, 3463, 3467, 3469, 3491, 3499, 3511, 3517, 3527, 3529, 3533, 3539, 3541, 3547, 3557, 3559, 3571, 3581, 3583, 3593, 3607, 3613, 3617, 3623, 3631, 3637, 3643, 3659, 3671, 3673, 3677, 3691, 3697, 3701, 3709, 3719, 3727, 3733, 3739, 3761, 3767, 3769, 3779, 3793, 3797, 3803, 3821, 3823, 3833, 3847, 3851, 3853, 3863, 3877, 3881, 3889, 3907, 3911, 3917, 3919, 3923, 3929, 3931, 3943, 3947, 3967, 3989, 4001, 4003, 4007, 4013, 4019, 4021, 4027, 4049, 4051, 4057, 4073, 4079, 4091, 4093, 4099, 4111, 4127, 4129, 4133, 4139, 4153, 4157, 4159, 4177, 4201, 4211, 4217, 4219, 4229, 4231, 4241, 4243, 4253, 4259, 4261, 4271, 4273, 4283, 4289, 4297, 4327, 4337, 4339, 4349, 4357, 4363, 4373, 4391, 4397, 4409, 4421, 4423, 4441, 4447, 4451, 4457, 4463, 4481, 4483, 4493, 4507, 4513, 4517, 4519, 4523, 4547, 4549, 4561, 4567, 4583, 4591, 4597, 4603, 4621, 4637, 4639, 4643, 4649, 4651, 4657, 4663, 4673, 4679, 4691, 4703, 4721, 4723, 4729, 4733, 4751, 4759, 4783, 4787, 4789, 4793, 4799, 4801, 4813, 4817, 4831, 4861, 4871, 4877, 4889, 4903, 4909, 4919, 4931, 4933, 4937, 4943, 4951, 4957, 4967, 4969, 4973, 4987, 4993, 4999, 5003, 5009, 5011, 5021, 5023, 5039, 5051, 5059, 5077, 5081, 5087, 5099, 5101, 5107, 5113, 5119, 5147, 5153, 5167, 5171, 5179, 5189, 5197, 5209, 5227, 5231, 5233, 5237, 5261, 5273, 5279, 5281, 5297, 5303, 5309, 5323, 5333, 5347, 5351, 5381, 5387, 5393, 5399, 5407, 5413, 5417, 5419, 5431, 5437, 5441, 5443, 5449, 5471, 5477, 5479, 5483, 5501, 5503, 5507, 5519, 5521, 5527, 5531, 5557, 5563, 5569, 5573, 5581, 5591, 5623, 5639, 5641, 5647, 5651, 5653, 5657, 5659, 5669, 5683, 5689, 5693, 5701, 5711, 5717, 5737, 5741, 5743, 5749, 5779, 5783, 5791, 5801, 5807, 5813, 5821, 5827, 5839, 5843, 5849, 5851, 5857, 5861, 5867, 5869, 5879, 5881, 5897, 5903, 5923, 5927, 5939, 5953, 5981, 5987, 6007, 6011, 6029, 6037, 6043, 6047, 6053, 6067, 6073, 6079, 6089, 6091, 6101, 6113, 6121, 6131, 6133, 6143, 6151, 6163, 6173, 6197, 6199, 6203, 6211, 6217, 6221, 6229, 6247, 6257, 6263, 6269, 6271, 6277, 6287, 6299, 6301, 6311, 6317, 6323, 6329, 6337, 6343, 6353, 6359, 6361, 6367, 6373, 6379, 6389, 6397, 6421, 6427, 6449, 6451, 6469, 6473, 6481, 6491, 6521, 6529, 6547, 6551, 6553, 6563, 6569, 6571, 6577, 6581, 6599, 6607, 6619, 6637, 6653, 6659, 6661, 6673, 6679, 6689, 6691, 6701, 6703, 6709, 6719, 6733, 6737, 6761, 6763, 6779, 6781, 6791, 6793, 6803, 6823, 6827, 6829, 6833, 6841, 6857, 6863, 6869, 6871, 6883, 6899, 6907, 6911, 6917, 6947, 6949, 6959, 6961, 6967, 6971, 6977, 6983, 6991, 6997, 7001, 7013, 7019, 7027, 7039, 7043, 7057, 7069, 7079, 7103, 7109, 7121, 7127, 7129, 7151, 7159, 7177, 7187, 7193, 7207, 7211, 7213, 7219, 7229, 7237, 7243, 7247, 7253, 7283, 7297, 7307, 7309, 7321, 7331, 7333, 7349, 7351, 7369, 7393, 7411, 7417, 7433, 7451, 7457, 7459, 7477, 7481, 7487, 7489, 7499, 7507, 7517, 7523, 7529, 7537, 7541, 7547, 7549, 7559, 7561, 7573, 7577, 7583, 7589, 7591, 7603, 7607, 7621, 7639, 7643, 7649, 7669, 7673, 7681, 7687, 7691, 7699, 7703, 7717, 7723, 7727, 7741, 7753, 7757, 7759, 7789, 7793, 7817, 7823, 7829, 7841, 7853, 7867, 7873, 7877, 7879, 7883, 7901, 7907, 7919, 7927, 7933, 7937, 7949, 7951, 7963, 7993, 8009, 8011, 8017, 8039, 8053, 8059, 8069, 8081, 8087, 8089, 8093, 8101, 8111, 8117, 8123, 8147, 8161, 8167, 8171, 8179, 8191, 8209, 8219, 8221, 8231, 8233, 8237, 8243, 8263, 8269, 8273, 8287, 8291, 8293, 8297, 8311, 8317, 8329, 8353, 8363, 8369, 8377, 8387, 8389, 8419, 8423, 8429, 8431, 8443, 8447, 8461, 8467, 8501, 8513, 8521, 8527, 8537, 8539, 8543, 8563, 8573, 8581, 8597, 8599, 8609, 8623, 8627, 8629, 8641, 8647, 8663, 8669, 8677, 8681, 8689, 8693, 8699, 8707, 8713, 8719, 8731, 8737, 8741, 8747, 8753, 8761, 8779, 8783, 8803, 8807, 8819, 8821, 8831, 8837, 8839, 8849, 8861, 8863, 8867, 8887, 8893, 8923, 8929, 8933, 8941, 8951, 8963, 8969, 8971, 8999, 9001, 9007, 9011, 9013, 9029, 9041, 9043, 9049, 9059, 9067, 9091, 9103, 9109, 9127, 9133, 9137, 9151, 9157, 9161, 9173, 9181, 9187, 9199, 9203, 9209, 9221, 9227, 9239, 9241, 9257, 9277, 9281, 9283, 9293, 9311, 9319, 9323, 9337, 9341, 9343, 9349, 9371, 9377, 9391, 9397, 9403, 9413, 9419, 9421, 9431, 9433, 9437, 9439, 9461, 9463, 9467, 9473, 9479, 9491, 9497, 9511, 9521, 9533, 9539, 9547, 9551, 9587, 9601, 9613, 9619, 9623, 9629, 9631, 9643, 9649, 9661, 9677, 9679, 9689, 9697, 9719, 9721, 9733, 9739, 9743, 9749, 9767, 9769, 9781, 9787, 9791, 9803, 9811, 9817, 9829, 9833, 9839, 9851, 9857, 9859, 9871, 9883, 9887, 9901, 9907, 9923, 9929, 9931, 9941, 9949, 9967, 9973]\n"
     ]
    }
   ],
   "source": [
    "# Question 3\n",
    "\n",
    "prime_number_list = []\n",
    "\n",
    "for num in range(0, 10001):\n",
    "   # prime numbers are greater than 1\n",
    "   if num > 1:\n",
    "       for i in range(2,num):\n",
    "           if (num % i) == 0:\n",
    "               break # jump out of loop\n",
    "       else:\n",
    "           prime_number_list.append(num)\n",
    "\n",
    "print(\"Prime numbers between 0 and 10000 are: {}\".format(prime_number_list))"
   ]
  },
  {
   "cell_type": "code",
   "execution_count": 9,
   "metadata": {},
   "outputs": [
    {
     "name": "stdout",
     "output_type": "stream",
     "text": [
      "There are 1229 prime numbers found.\n"
     ]
    }
   ],
   "source": [
    "print(\"There are {} prime numbers found.\".format(len(prime_number_list)))"
   ]
  },
  {
   "cell_type": "markdown",
   "metadata": {},
   "source": [
    "### Question 4 (20 points) Binary search\n",
    "\n",
    "Binary search is a classical search method. Given a sorted list of n elements, write a function to search a given element x in the list. Specifically, searching a sorted array by repeatedly dividing the search interval in half. Begin with an interval covering the whole array. If the value of the search key is less than the item in the middle of the interval, narrow the interval to the lower half. Otherwise narrow it to the upper half. Repeatedly check until the value is found or the interval is empty.\n",
    "\n",
    "![binary](https://www.geeksforgeeks.org/wp-content/uploads/gq/2014/01/binary-search1.png)\n",
    "\n",
    "We know that the built-in **bisect** module implements binary search and insertion into a sorted list. For example, **bisect.bisect** finds the location where an element should be inserted to keep it sorted\n",
    "\n",
    "```python\n",
    "import bisect\n",
    "\n",
    "c = [1, 2, 2, 2, 3, 4, 7]\n",
    "bisect.bisect(c, 2) #output: 4\n",
    "```\n",
    "\n",
    "1. Implement your own binary search function, with two arguments: a sorted list and a number to be checked, such that function returns the index of the number in the list, if the number is not in the list, print \"The number is not in the list!\"\n",
    "\n",
    "    Example input: input_list = [1, 2, 3, 4, 7], number = 3\n",
    "\n",
    "    Example output: ```Number 3 is at the position 3!```\n",
    "\n",
    "    Example input: input_list = [1, 2, 3, 4, 7], number = 5\n",
    "\n",
    "    Example output: ```Number 5 is not in the list!```\n",
    "    \n",
    "2. Now you are given a list that is not sorted and with dumplicated elements. Try to sort the list and remove all duplicates to print the cleaned list. Then perform binary search similarly as above.\n",
    "\n",
    "    Example input: input_list = [4, 2, 2, 2, 3, 1, 7], number = 3\n",
    "    \n",
    "    Example output: ```The cleaned list is [1, 2, 3, 4, 7] and number 3 is at the position 3!```\n",
    "    \n",
    "    Example input: input_list = [4, 2, 2, 2, 3, 1, 7], number = 5\n",
    "    \n",
    "    Example output: ```The cleaned list is [1, 2, 3, 4, 7] and number 5 is is not in the list!```"
   ]
  },
  {
   "cell_type": "code",
   "execution_count": 10,
   "metadata": {},
   "outputs": [
    {
     "name": "stdout",
     "output_type": "stream",
     "text": [
      "Number 3 is at the position 3!\n",
      "Number 5 is not in the list!\n"
     ]
    }
   ],
   "source": [
    "# Question 4.1\n",
    "def binarySearch(alist, item):\n",
    "    first = 0\n",
    "    last = len(alist)-1\n",
    "    found = False\n",
    "    \n",
    "    while first <= last and not found:\n",
    "        midpoint = (first + last) // 2\n",
    "        \n",
    "        if alist[midpoint] == item:\n",
    "            found = True\n",
    "        else:\n",
    "            if item < alist[midpoint]:\n",
    "                last = midpoint - 1\n",
    "            else:\n",
    "                first = midpoint + 1\n",
    "        \n",
    "    if found:\n",
    "        print('Number {} is at the position {}!'.format(item, midpoint+1))\n",
    "    else:\n",
    "        print('Number {} is not in the list!'.format(item))\n",
    "\n",
    "input_list = [1, 2, 3, 4, 7]\n",
    "\n",
    "binarySearch(input_list, 3)\n",
    "binarySearch(input_list, 5)"
   ]
  },
  {
   "cell_type": "code",
   "execution_count": 11,
   "metadata": {},
   "outputs": [
    {
     "data": {
      "text/plain": [
       "[1, 2, 3, 4, 7]"
      ]
     },
     "execution_count": 11,
     "metadata": {},
     "output_type": "execute_result"
    }
   ],
   "source": [
    "input_list = [4, 2, 2, 2, 3, 1, 7]\n",
    "\n",
    "list(set(input_list))"
   ]
  },
  {
   "cell_type": "code",
   "execution_count": 12,
   "metadata": {},
   "outputs": [
    {
     "name": "stdout",
     "output_type": "stream",
     "text": [
      "The cleaned list is [1, 2, 3, 4, 7] and number 3 is at the position 3!\n",
      "The cleaned list is [1, 2, 3, 4, 7] and number 5 is not in the list!\n"
     ]
    }
   ],
   "source": [
    "# Question 4.2\n",
    "\n",
    "def binarySearch(alist, item):    \n",
    "    alist = list(set(input_list))  # use set to remove duplicates\n",
    "    first = 0\n",
    "    last = len(alist)-1\n",
    "    found = False\n",
    "    \n",
    "    while first <= last and not found:\n",
    "        midpoint = (first + last) // 2\n",
    "        \n",
    "        if alist[midpoint] == item:\n",
    "            found = True\n",
    "        else:\n",
    "            if item < alist[midpoint]:\n",
    "                last = midpoint - 1\n",
    "            else:\n",
    "                first = midpoint + 1\n",
    "        \n",
    "    if found:\n",
    "        print('The cleaned list is {} and number {} is at the position {}!'.format(alist, item, midpoint+1))\n",
    "    else:\n",
    "        print('The cleaned list is {} and number {} is not in the list!'.format(alist, item))\n",
    "        \n",
    "input_list = [4, 2, 2, 2, 3, 1, 7]\n",
    "binarySearch(input_list, 3)\n",
    "binarySearch(input_list, 5)"
   ]
  },
  {
   "cell_type": "markdown",
   "metadata": {},
   "source": [
    "### Question 5 (20 points) Decrypt the Caesar cipher\n",
    "\n",
    "The Caesar cipher is named after Julius Caesar, who used it in his private correspondence. The action of a Caesar cipher is to replace each plaintext letter with a different one a fixed number of places down the alphabet. For example, with a left shift of 3, D would be replaced by A, E would become B, and so on (as shown below).\n",
    "\n",
    "\n",
    "![caesar](https://upload.wikimedia.org/wikipedia/commons/4/4a/Caesar_cipher_left_shift_of_3.svg)\n",
    "\n",
    "\n",
    "Example: the word **python** is encryped as **sbwkrq**, with a left shift of 3.\n",
    "\n",
    "- Write a function to decrypt the following message: ```wkh gdwd fxudwlrq frxuvh lv dzhvrph!```. \n",
    "\n",
    "```python\n",
    "def decrypt(encrypted_message):\n",
    "    # Write your code below\n",
    "\n",
    "return decrypted_message\n",
    "```\n",
    "\n",
    "- Add a new argument **shift** to the function to indicate the shift level and decrypt the following message:\n",
    "\n",
    "    ```jgzg iaxgzout oy znk sgtgmksktz ul jgzg znxuamnuaz ozy rolkieirk, lxus ixkgzout gtj otozogr yzuxgmk zu znk zosk cnkt oz oy gxinobkj lux vuyzkxoze ux hkiusky uhyurkzk gtj oy jkrkzkj```. \n",
    "    \n",
    "    Print also the level that you manage to decrypt the message as well "
   ]
  },
  {
   "cell_type": "code",
   "execution_count": 13,
   "metadata": {},
   "outputs": [
    {
     "data": {
      "text/plain": [
       "'a'"
      ]
     },
     "execution_count": 13,
     "metadata": {},
     "output_type": "execute_result"
    }
   ],
   "source": [
    "letters2int = dict(zip(\"abcdefghijklmnopqrstuvwxyz\", range(26)))\n",
    "int2letters = dict(zip(range(26), \"abcdefghijklmnopqrstuvwxyz\"))\n",
    "\n",
    "int2letters[ (letters2int['d'] - 3) % 26 ]"
   ]
  },
  {
   "cell_type": "code",
   "execution_count": 14,
   "metadata": {},
   "outputs": [
    {
     "name": "stdout",
     "output_type": "stream",
     "text": [
      "the data curation course is awesome!\n"
     ]
    }
   ],
   "source": [
    "# Question 5\n",
    "\n",
    "def decrypt(encrypted_message):\n",
    "    shift = 3\n",
    "    decrypted_message = ''\n",
    "\n",
    "    for c in encrypted_message:\n",
    "        if c.isalpha(): \n",
    "            decrypted_message += int2letters[ (letters2int[c] - shift) % 26 ]\n",
    "        else: \n",
    "            decrypted_message += c\n",
    "    \n",
    "    return decrypted_message\n",
    "\n",
    "encrypted_message1 = 'wkh gdwd fxudwlrq frxuvh lv dzhvrph!'\n",
    "decrypted_message1 = decrypt(encrypted_message1)\n",
    "\n",
    "print(decrypted_message1)\n"
   ]
  },
  {
   "cell_type": "code",
   "execution_count": 15,
   "metadata": {},
   "outputs": [
    {
     "name": "stdout",
     "output_type": "stream",
     "text": [
      "Shift: 1, ifyf hzwfynts nx ymj rfsfljrjsy tk ifyf ymwtzlmtzy nyx qnkjhdhqj, kwtr hwjfynts fsi nsnynfq xytwflj yt ymj ynrj bmjs ny nx fwhmnaji ktw utxyjwnyd tw gjhtrjx tgxtqjyj fsi nx ijqjyji.\n",
      "\n",
      "Shift: 2, hexe gyvexmsr mw xli qerekiqirx sj hexe xlvsyklsyx mxw pmjigcgpi, jvsq gviexmsr erh mrmxmep wxsveki xs xli xmqi alir mx mw evglmzih jsv tswxivmxc sv figsqiw sfwspixi erh mw hipixih.\n",
      "\n",
      "Shift: 3, gdwd fxudwlrq lv wkh pdqdjhphqw ri gdwd wkurxjkrxw lwv olihfbfoh, iurp fuhdwlrq dqg lqlwldo vwrudjh wr wkh wlph zkhq lw lv dufklyhg iru srvwhulwb ru ehfrphv revrohwh dqg lv ghohwhg.\n",
      "\n",
      "Shift: 4, fcvc ewtcvkqp ku vjg ocpcigogpv qh fcvc vjtqwijqwv kvu nkhgeaeng, htqo etgcvkqp cpf kpkvkcn uvqtcig vq vjg vkog yjgp kv ku ctejkxgf hqt rquvgtkva qt dgeqogu qduqngvg cpf ku fgngvgf.\n",
      "\n",
      "Shift: 5, ebub dvsbujpo jt uif nbobhfnfou pg ebub uispvhipvu jut mjgfdzdmf, gspn dsfbujpo boe jojujbm tupsbhf up uif ujnf xifo ju jt bsdijwfe gps qptufsjuz ps cfdpnft pctpmfuf boe jt efmfufe.\n",
      "\n",
      "Shift: 6, data curation is the management of data throughout its lifecycle, from creation and initial storage to the time when it is archived for posterity or becomes obsolete and is deleted.\n",
      "\n",
      "Shift: 7, czsz btqzshnm hr sgd lzmzfdldms ne czsz sgqntfgnts hsr khedbxbkd, eqnl bqdzshnm zmc hmhshzk rsnqzfd sn sgd shld vgdm hs hr zqbghudc enq onrsdqhsx nq adbnldr narnkdsd zmc hr cdkdsdc.\n",
      "\n",
      "Shift: 8, byry aspyrgml gq rfc kylyeckclr md byry rfpmsefmsr grq jgdcawajc, dpmk apcyrgml ylb glgrgyj qrmpyec rm rfc rgkc ufcl gr gq ypafgtcb dmp nmqrcpgrw mp zcamkcq mzqmjcrc ylb gq bcjcrcb.\n",
      "\n",
      "Shift: 9, axqx zroxqflk fp qeb jxkxdbjbkq lc axqx qeolrdelrq fqp ifcbzvzib, colj zobxqflk xka fkfqfxi pqloxdb ql qeb qfjb tebk fq fp xozefsba clo mlpqbofqv lo ybzljbp lyplibqb xka fp abibqba.\n",
      "\n",
      "Shift: 10, zwpw yqnwpekj eo pda iwjwcaiajp kb zwpw pdnkqcdkqp epo hebayuyha, bnki ynawpekj wjz ejepewh opknwca pk pda peia sdaj ep eo wnyderaz bkn lkopanepu kn xaykiao kxokhapa wjz eo zahapaz.\n",
      "\n",
      "Shift: 11, yvov xpmvodji dn ocz hvivbzhzio ja yvov ocmjpbcjpo don gdazxtxgz, amjh xmzvodji viy didodvg nojmvbz oj ocz odhz rczi do dn vmxcdqzy ajm kjnozmdot jm wzxjhzn jwnjgzoz viy dn yzgzozy.\n",
      "\n",
      "Shift: 12, xunu woluncih cm nby guhuaygyhn iz xunu nblioabion cnm fczywswfy, zlig wlyuncih uhx chcncuf mniluay ni nby ncgy qbyh cn cm ulwbcpyx zil jimnylcns il vywigym ivmifyny uhx cm xyfynyx.\n",
      "\n",
      "Shift: 13, wtmt vnktmbhg bl max ftgtzxfxgm hy wtmt makhnzahnm bml ebyxvrvex, ykhf vkxtmbhg tgw bgbmbte lmhktzx mh max mbfx paxg bm bl tkvaboxw yhk ihlmxkbmr hk uxvhfxl hulhexmx tgw bl wxexmxw.\n",
      "\n",
      "Shift: 14, vsls umjslagf ak lzw esfsywewfl gx vsls lzjgmyzgml alk daxwuqudw, xjge ujwslagf sfv afalasd klgjsyw lg lzw laew ozwf al ak sjuzanwv xgj hgklwjalq gj twugewk gtkgdwlw sfv ak vwdwlwv.\n",
      "\n",
      "Shift: 15, urkr tlirkzfe zj kyv drerxvdvek fw urkr kyiflxyflk zkj czwvtptcv, wifd tivrkzfe reu zezkzrc jkfirxv kf kyv kzdv nyve zk zj rityzmvu wfi gfjkvizkp fi svtfdvj fsjfcvkv reu zj uvcvkvu.\n",
      "\n",
      "Shift: 16, tqjq skhqjyed yi jxu cqdqwucudj ev tqjq jxhekwxekj yji byvusosbu, vhec shuqjyed qdt ydyjyqb ijehqwu je jxu jycu mxud yj yi qhsxylut veh feijuhyjo eh rusecui eriebuju qdt yi tubujut.\n",
      "\n",
      "Shift: 17, spip rjgpixdc xh iwt bpcpvtbtci du spip iwgdjvwdji xih axutrnrat, ugdb rgtpixdc pcs xcxixpa hidgpvt id iwt ixbt lwtc xi xh pgrwxkts udg edhitgxin dg qtrdbth dqhdatit pcs xh statits.\n",
      "\n",
      "Shift: 18, roho qifohwcb wg hvs aobousasbh ct roho hvfciuvcih whg zwtsqmqzs, tfca qfsohwcb obr wbwhwoz ghcfous hc hvs hwas kvsb wh wg ofqvwjsr tcf dcghsfwhm cf psqcasg cpgczshs obr wg rszshsr.\n",
      "\n",
      "Shift: 19, qngn phengvba vf gur znantrzrag bs qngn guebhtubhg vgf yvsrplpyr, sebz perngvba naq vavgvny fgbentr gb gur gvzr jura vg vf nepuvirq sbe cbfgrevgl be orpbzrf bofbyrgr naq vf qryrgrq.\n",
      "\n",
      "Shift: 20, pmfm ogdmfuaz ue ftq ymzmsqyqzf ar pmfm ftdagstagf ufe xurqokoxq, rday odqmfuaz mzp uzufumx efadmsq fa ftq fuyq itqz uf ue mdotuhqp rad baefqdufk ad nqoayqe aneaxqfq mzp ue pqxqfqp.\n",
      "\n",
      "Shift: 21, olel nfcletzy td esp xlylrpxpye zq olel esczfrszfe ted wtqpnjnwp, qczx ncpletzy lyo tytetlw dezclrp ez esp etxp hspy te td lcnstgpo qzc azdepctej zc mpnzxpd zmdzwpep lyo td opwpepo.\n",
      "\n",
      "Shift: 22, nkdk mebkdsyx sc dro wkxkqowoxd yp nkdk drbyeqryed sdc vspomimvo, pbyw mbokdsyx kxn sxsdskv cdybkqo dy dro dswo grox sd sc kbmrsfon pyb zycdobsdi yb lomywoc ylcyvodo kxn sc novodon.\n",
      "\n",
      "Shift: 23, mjcj ldajcrxw rb cqn vjwjpnvnwc xo mjcj cqaxdpqxdc rcb uronlhlun, oaxv lanjcrxw jwm rwrcrju bcxajpn cx cqn crvn fqnw rc rb jalqrenm oxa yxbcnarch xa knlxvnb xkbxuncn jwm rb mnuncnm.\n",
      "\n",
      "Shift: 24, libi kczibqwv qa bpm uiviomumvb wn libi bpzwcopwcb qba tqnmkgktm, nzwu kzmibqwv ivl qvqbqit abwziom bw bpm bqum epmv qb qa izkpqdml nwz xwabmzqbg wz jmkwuma wjawtmbm ivl qa lmtmbml.\n",
      "\n",
      "Shift: 25, khah jbyhapvu pz aol thuhnltlua vm khah aoyvbnovba paz spmljfjsl, myvt jylhapvu huk pupaphs zavyhnl av aol aptl dolu pa pz hyjopclk mvy wvzalypaf vy iljvtlz vizvslal huk pz klslalk.\n",
      "\n"
     ]
    }
   ],
   "source": [
    "encrypted_message2 = '''jgzg iaxgzout oy znk sgtgmksktz ul jgzg znxuamnuaz ozy rolkieirk, \\\n",
    "lxus ixkgzout gtj otozogr yzuxgmk zu znk zosk cnkt oz oy gxinobkj \\\n",
    "lux vuyzkxoze ux hkiusky uhyurkzk gtj oy jkrkzkj.\n",
    "'''\n",
    "\n",
    "\n",
    "def decrypt(encrypted_message, shift):\n",
    "    decrypted_message = ''\n",
    "    \n",
    "    for character in encrypted_message:\n",
    "        if character.isalpha(): \n",
    "            decrypted_message += int2letters[ (letters2int[character] - shift) % 26 ]\n",
    "        else: \n",
    "            decrypted_message += character\n",
    "    \n",
    "    return decrypted_message\n",
    "\n",
    "for shift in range(1,26):   \n",
    "    decrypted_message2 = decrypt(encrypted_message2, shift)\n",
    "    print(\"Shift: {}, {}\".format(shift, decrypted_message2))"
   ]
  },
  {
   "cell_type": "markdown",
   "metadata": {},
   "source": [
    "So as you could find that, when shift is 6, we can decrypte the message"
   ]
  },
  {
   "cell_type": "markdown",
   "metadata": {},
   "source": [
    "### Question 6 (20 points) Easter Egg\n",
    "\n",
    "The file ```pep-0020.txt``` contains the Zen of Python. Read the file as we show in the lecture and answer the following question. \n",
    "\n",
    "1. Print the number of lines in the file\n",
    "2. Identify which line contains the ```Easter Egg```\n",
    "3. Slice the file with content only about the ```Zen of Python``` and save it to a new file ```zen_of_python.txt```"
   ]
  },
  {
   "cell_type": "markdown",
   "metadata": {},
   "source": [
    "**Note** If you are using Google Colab, you need first to upload this file to the computing environment using the following code:\n",
    "```python\n",
    "from google.colab import files\n",
    "\n",
    "files.upload()\n",
    "```\n",
    "\n",
    "Then it will ask you to upload the file, select the file and it will be uploaded. You can verify whether it has been successfully uploaded at the left of the notebook `Files`"
   ]
  },
  {
   "cell_type": "code",
   "execution_count": 16,
   "metadata": {},
   "outputs": [
    {
     "name": "stdout",
     "output_type": "stream",
     "text": [
      "PEP: 20\n",
      "\n",
      "Title: The Zen of Python\n",
      "\n",
      "Version: $Revision$\n",
      "\n",
      "Last-Modified: $Date$\n",
      "\n",
      "Author: tim.peters@gmail.com (Tim Peters)\n",
      "\n",
      "Status: Active\n",
      "\n",
      "Type: Informational\n",
      "\n",
      "Content-Type: text/x-rst\n",
      "\n",
      "Created: 19-Aug-2004\n",
      "\n",
      "Post-History: 22-Aug-2004\n",
      "\n",
      "\n",
      "\n",
      "\n",
      "\n",
      "\n",
      "\n",
      "Abstract\n",
      "\n",
      "========\n",
      "\n",
      "\n",
      "\n",
      "Long time Pythoneer Tim Peters succinctly channels the BDFL's guiding\n",
      "\n",
      "principles for Python's design into 20 aphorisms, only 19 of which\n",
      "\n",
      "have been written down.\n",
      "\n",
      "\n",
      "\n",
      "\n",
      "\n",
      "The Zen of Python\n",
      "\n",
      "=================\n",
      "\n",
      "\n",
      "\n",
      "::\n",
      "\n",
      "\n",
      "\n",
      "    Beautiful is better than ugly.\n",
      "\n",
      "    Explicit is better than implicit.\n",
      "\n",
      "    Simple is better than complex.\n",
      "\n",
      "    Complex is better than complicated.\n",
      "\n",
      "    Flat is better than nested.\n",
      "\n",
      "    Sparse is better than dense.\n",
      "\n",
      "    Readability counts.\n",
      "\n",
      "    Special cases aren't special enough to break the rules.\n",
      "\n",
      "    Although practicality beats purity.\n",
      "\n",
      "    Errors should never pass silently.\n",
      "\n",
      "    Unless explicitly silenced.\n",
      "\n",
      "    In the face of ambiguity, refuse the temptation to guess.\n",
      "\n",
      "    There should be one-- and preferably only one --obvious way to do it.\n",
      "\n",
      "    Although that way may not be obvious at first unless you're Dutch.\n",
      "\n",
      "    Now is better than never.\n",
      "\n",
      "    Although never is often better than *right* now.\n",
      "\n",
      "    If the implementation is hard to explain, it's a bad idea.\n",
      "\n",
      "    If the implementation is easy to explain, it may be a good idea.\n",
      "\n",
      "    Namespaces are one honking great idea -- let's do more of those!\n",
      "\n",
      "\n",
      "\n",
      "\n",
      "\n",
      "Easter Egg\n",
      "\n",
      "==========\n",
      "\n",
      "\n",
      "\n",
      "::\n",
      "\n",
      "\n",
      "\n",
      "  >>> import this\n",
      "\n",
      "\n",
      "\n",
      "\n",
      "\n",
      "Copyright\n",
      "\n",
      "=========\n",
      "\n",
      "\n",
      "\n",
      "This document has been placed in the public domain.\n",
      "\n",
      "\n",
      "\n",
      "\n",
      "\n",
      "..\n",
      "\n",
      "   Local Variables:\n",
      "\n",
      "   mode: indented-text\n",
      "\n",
      "   indent-tabs-mode: nil\n",
      "\n",
      "   sentence-end-double-space: t\n",
      "\n",
      "   fill-column: 70\n",
      "\n",
      "   End:\n",
      "\n"
     ]
    }
   ],
   "source": [
    "# Question 6\n",
    "\n",
    "read_path = 'pep-0020.txt'\n",
    "\n",
    "with open(read_path, 'r') as f:\n",
    "    lines = f.readlines()\n",
    "    \n",
    "for line in lines:\n",
    "    print(line)"
   ]
  },
  {
   "cell_type": "code",
   "execution_count": 17,
   "metadata": {},
   "outputs": [
    {
     "name": "stdout",
     "output_type": "stream",
     "text": [
      "There are 68 lines in the file pep-0020.txt\n"
     ]
    }
   ],
   "source": [
    "print('There are {} lines in the file {}'.format(len(lines), read_path))"
   ]
  },
  {
   "cell_type": "code",
   "execution_count": 18,
   "metadata": {},
   "outputs": [
    {
     "name": "stdout",
     "output_type": "stream",
     "text": [
      "Line 48 contains the word “Easter Egg”.\n"
     ]
    }
   ],
   "source": [
    "easter_egg = 'Easter Egg'\n",
    "\n",
    "for line_number, line in enumerate(lines):\n",
    "    if easter_egg not in line:\n",
    "        continue\n",
    "    else:\n",
    "        print('Line {} contains the word “{}”.'.format(line_number + 1, easter_egg))"
   ]
  },
  {
   "cell_type": "code",
   "execution_count": 19,
   "metadata": {
    "collapsed": true
   },
   "outputs": [],
   "source": [
    "zen_of_python = 'The Zen of Python'\n",
    "text = []\n",
    "\n",
    "parsing = False\n",
    "for line_number, line in enumerate(lines):    \n",
    "    if line.startswith(zen_of_python):      \n",
    "        parsing = True\n",
    "    elif line.startswith(easter_egg):\n",
    "        parsing = False    \n",
    "    if parsing:\n",
    "        text.append(line)\n"
   ]
  },
  {
   "cell_type": "code",
   "execution_count": 20,
   "metadata": {},
   "outputs": [
    {
     "name": "stdout",
     "output_type": "stream",
     "text": [
      "['The Zen of Python\\n', '=================\\n', '\\n', '::\\n', '\\n', '    Beautiful is better than ugly.\\n', '    Explicit is better than implicit.\\n', '    Simple is better than complex.\\n', '    Complex is better than complicated.\\n', '    Flat is better than nested.\\n', '    Sparse is better than dense.\\n', '    Readability counts.\\n', \"    Special cases aren't special enough to break the rules.\\n\", '    Although practicality beats purity.\\n', '    Errors should never pass silently.\\n', '    Unless explicitly silenced.\\n', '    In the face of ambiguity, refuse the temptation to guess.\\n', '    There should be one-- and preferably only one --obvious way to do it.\\n', \"    Although that way may not be obvious at first unless you're Dutch.\\n\", '    Now is better than never.\\n', '    Although never is often better than *right* now.\\n', \"    If the implementation is hard to explain, it's a bad idea.\\n\", '    If the implementation is easy to explain, it may be a good idea.\\n', \"    Namespaces are one honking great idea -- let's do more of those!\\n\", '\\n', '\\n']\n"
     ]
    }
   ],
   "source": [
    "print(text)"
   ]
  },
  {
   "cell_type": "code",
   "execution_count": 21,
   "metadata": {
    "collapsed": true
   },
   "outputs": [],
   "source": [
    "write_path = 'zen_of_python.txt'\n",
    "\n",
    "with open(write_path, 'w') as f:\n",
    "    f.writelines(text)"
   ]
  },
  {
   "cell_type": "code",
   "execution_count": null,
   "metadata": {
    "collapsed": true
   },
   "outputs": [],
   "source": []
  }
 ],
 "metadata": {
  "kernelspec": {
   "display_name": "Python 3",
   "language": "python",
   "name": "python3"
  },
  "language_info": {
   "codemirror_mode": {
    "name": "ipython",
    "version": 3
   },
   "file_extension": ".py",
   "mimetype": "text/x-python",
   "name": "python",
   "nbconvert_exporter": "python",
   "pygments_lexer": "ipython3",
   "version": "3.6.2"
  }
 },
 "nbformat": 4,
 "nbformat_minor": 2
}
