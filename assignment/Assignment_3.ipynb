{
 "cells": [
  {
   "cell_type": "markdown",
   "metadata": {},
   "source": [
    "## Assignment 3 pandas and SQL\n",
    "\n",
    "This assignment will contain 2 questions with details as below. The due date is October 23 (Tuesday), 2018 23:59PM. Each late day will result in 20% loss of total points."
   ]
  },
  {
   "cell_type": "markdown",
   "metadata": {},
   "source": [
    "### Question 1 (60 points) Cradle of Renaissance\n",
    "\n",
    "![firenze](https://www.italian-traditions.com/wp-content/uploads/2016/10/FIRENZE-4-8.jpg)\n",
    "\n",
    "Florence is the capital city of region of Tuscany, and considered as the birthplace of the Renaissance with world-level cultural and artistic heritages across the city, such as the Uffizi Gallery, Palazzo Pitti, Piazza del Duomo, to name just a few. The tourism is the most significant industry in Florence with 13 million tourist per year that often leads to the overcrowding problems. \n",
    "\n",
    "However, Florence is seeking a better class of tourist to share its besieged medieval treasures, as the Mayor Dario Nardella said \"No museum visit, just a photo from the square, the bus back and then on to Venice... We don’t want tourists like that.”. As a result, Florence started the program of FirenzeCard (http://www.firenzecard.it), a tourism promotion initiative that allows tourists to visit all museums in Florence in 72 hours with only 72 euros. \n",
    "\n",
    "You are given the task of analyzing a dataset about FirenzeCard usage. There are multiple Excel files that contains museum entries using FirenzeCard, i.e., card_01.xlsx and card_02.xlsx, respectively. Each file includes the following information:\n",
    "\n",
    "- Card ID: the unique ID of Firenze Card\n",
    "- Museum visited: the museum name of the entry\n",
    "- Hour: the hour of the museum entry\n",
    "- Adult admission with activation: 1 if the cardholder enters the museum with the activation, 0 otherwise.\n",
    "- Adult admission without activation: 1 if the cardholder enters the museum without the activation, 0 otherwise\n",
    "- Minor admission: 1 if the cardholder enters the musuem as the kids, 0 otherwise\n",
    "\n",
    "Each time, a cardholder may enter the museum by swiping the FirenzeCard. They need to activate the card at the first entry and then use it until it expired. Moreover, a cardholder could also be a child for discounted price. \n",
    "\n",
    "However, the local government official has made a lot of mistakes when they record the data. You being a consulting data analyst, have identified the following errors, after several rounds of meetings and pizzas with them:\n",
    "1. In the column of *`Adult admission with activation`*, the value of 1 is mistakenly recorded as -1\n",
    "2. In the column of *`Adult admission without activation`*, the value of 0 is left empty \n",
    "3. In the column of *`Minor admission`*, the value of 0 is recorded as `unknown`"
   ]
  },
  {
   "cell_type": "markdown",
   "metadata": {},
   "source": [
    "**Question 1.1** (20 points): Download the data `card_01.xlsx` and `card_02.xlsx` from the moodle and load them into the pandas DataFrame. Combine these two dataset into one single DataFrame with the following columns: **card_id**, **museum_visited**, **hour**, **adult_activation**, **adult_not_activation** and **minor**\n",
    "\n",
    "As a sanity check, the value of **adult_activation**, **adult_not_activation** and **minor** should have only one value that is 1 and the oher two is 0. Show that your single master daaframe pass the sanity check"
   ]
  },
  {
   "cell_type": "code",
   "execution_count": null,
   "metadata": {
    "collapsed": true
   },
   "outputs": [],
   "source": [
    "# Question 1.1\n"
   ]
  },
  {
   "cell_type": "markdown",
   "metadata": {},
   "source": [
    "**Question 1.2** (5 points) To start with data exploration, show the descriptive statistics of the `master dataframe` after the preprocessing"
   ]
  },
  {
   "cell_type": "code",
   "execution_count": null,
   "metadata": {
    "collapsed": true
   },
   "outputs": [],
   "source": [
    "# Question 1.2"
   ]
  },
  {
   "cell_type": "markdown",
   "metadata": {},
   "source": [
    "**Quesion 1.3** (5 points) On average, how many museums each cardholder has visited?"
   ]
  },
  {
   "cell_type": "code",
   "execution_count": null,
   "metadata": {
    "collapsed": true
   },
   "outputs": [],
   "source": [
    "# Question 1.3"
   ]
  },
  {
   "cell_type": "markdown",
   "metadata": {},
   "source": [
    "**Question 1.4** (5 points) What is the proportion of tourists that have visited more than 10 museums?"
   ]
  },
  {
   "cell_type": "code",
   "execution_count": null,
   "metadata": {
    "collapsed": true
   },
   "outputs": [],
   "source": [
    "# Quesion 1.4"
   ]
  },
  {
   "cell_type": "markdown",
   "metadata": {},
   "source": [
    "**Question 1.5** (5 points) Show the top 10 most popular museums in terms of adult admissions as musuem name and number of tourists "
   ]
  },
  {
   "cell_type": "code",
   "execution_count": 65,
   "metadata": {
    "collapsed": true
   },
   "outputs": [],
   "source": [
    "# Question 1.5"
   ]
  },
  {
   "cell_type": "markdown",
   "metadata": {},
   "source": [
    "**Question 1.6** (5 points) For the museum `Galleria degli Uffizi`, show the top 5 hours that have the most visitors in terms of adult admissions"
   ]
  },
  {
   "cell_type": "code",
   "execution_count": null,
   "metadata": {
    "collapsed": true
   },
   "outputs": [],
   "source": [
    "# Question 1.6\n"
   ]
  },
  {
   "cell_type": "markdown",
   "metadata": {},
   "source": [
    "**Question 1.7** (5 points) Which is tourist's favourite museum to begin to visit? (The museum tourists activate the card)"
   ]
  },
  {
   "cell_type": "code",
   "execution_count": null,
   "metadata": {
    "collapsed": true
   },
   "outputs": [],
   "source": [
    "# Question 1.7\n"
   ]
  },
  {
   "cell_type": "markdown",
   "metadata": {},
   "source": [
    "**Question 1.8** (5 points) Which are top 5 family tourist's favorite museums in terms of minor admissions?"
   ]
  },
  {
   "cell_type": "code",
   "execution_count": 66,
   "metadata": {
    "collapsed": true
   },
   "outputs": [],
   "source": [
    "# Question 1.8\n"
   ]
  },
  {
   "cell_type": "markdown",
   "metadata": {},
   "source": [
    "**Question 1.9** (5 points) For tourists that visit the `Battistero di San Giovanni`, how many of them visit the `Galleria dell'Accademia di Firenze` in terms of percentage?"
   ]
  },
  {
   "cell_type": "code",
   "execution_count": 67,
   "metadata": {
    "collapsed": true
   },
   "outputs": [],
   "source": [
    "# Question 1.9\n"
   ]
  },
  {
   "cell_type": "markdown",
   "metadata": {},
   "source": [
    "** Bonus point: Tell me something I don't know** (10 points) After exploring the data, you might have some interesting insights, show what you have found. You will be given points based on the innovativeness and compeleteness of your findings. You should explain the findings using text with the support of code."
   ]
  },
  {
   "cell_type": "code",
   "execution_count": null,
   "metadata": {
    "collapsed": true
   },
   "outputs": [],
   "source": []
  },
  {
   "cell_type": "code",
   "execution_count": null,
   "metadata": {
    "collapsed": true
   },
   "outputs": [],
   "source": []
  },
  {
   "cell_type": "markdown",
   "metadata": {},
   "source": [
    "### Question 2 (40 points) Chinook\n",
    "\n",
    "The Chinook data model represents a digital media store, including tables for artists, albums, media tracks, invoices and customers. Media related data was created using real data from an iTunes Library. Customer and employee information was manually created using fictitious names, addresses that can be located on Google maps, and other well formatted data (phone, fax, email, etc.). Sales information is auto generated using random data for a four year period.\n",
    "\n",
    "The database schema is shown as below:\n",
    "\n",
    "![chinook](chinook_er.png)\n",
    "\n",
    "Download the `chinook.db` and put it in the same folder of your Jupyter notebook and answer the following questions. You could consider to write the SQL scripts and use pandas.read_sql to convert it to DataFrames. "
   ]
  },
  {
   "cell_type": "markdown",
   "metadata": {},
   "source": [
    "**Question 2.1** (5 points) Show all songs that are longer than 250,000 milliseconds and composed by person named `James` with five columns: `TrackId`, `Name`, `AlbumId`, `Composer` and `Milliseconds`"
   ]
  },
  {
   "cell_type": "code",
   "execution_count": null,
   "metadata": {
    "collapsed": true
   },
   "outputs": [],
   "source": [
    "# Question 2.1\n",
    "\n"
   ]
  },
  {
   "cell_type": "markdown",
   "metadata": {},
   "source": [
    "**Question 2.2** (5 points) Show all albums of U2 with two columns `Name` and `Title`"
   ]
  },
  {
   "cell_type": "code",
   "execution_count": null,
   "metadata": {
    "collapsed": true
   },
   "outputs": [],
   "source": [
    "# Question 2.2\n",
    "\n"
   ]
  },
  {
   "cell_type": "markdown",
   "metadata": {},
   "source": [
    "**Question 2.3** (5 points): Show the list of countries that customers are from, order by the number of customers in descending order as two columns: `Country` and `number_customers`"
   ]
  },
  {
   "cell_type": "code",
   "execution_count": null,
   "metadata": {
    "collapsed": true
   },
   "outputs": [],
   "source": [
    "# Question 2.3\n",
    "\n"
   ]
  },
  {
   "cell_type": "markdown",
   "metadata": {},
   "source": [
    "**Question 2.4** (5 points): Show the sales of songs (sum of quantity) categorized by genres with two columns: `Name` and `Sales`, alphabetically order by genre name."
   ]
  },
  {
   "cell_type": "code",
   "execution_count": null,
   "metadata": {
    "collapsed": true
   },
   "outputs": [],
   "source": [
    "# Quesition 2.4\n",
    "\n"
   ]
  },
  {
   "cell_type": "markdown",
   "metadata": {},
   "source": [
    "**Question 2.5** (10 points) Show the list of albums with more than 20 songs as two columns: `Title` and `Number_songs`, order by number of songs in that album in descending order "
   ]
  },
  {
   "cell_type": "code",
   "execution_count": null,
   "metadata": {
    "collapsed": true
   },
   "outputs": [],
   "source": [
    "# Question 2.5\n",
    "\n"
   ]
  },
  {
   "cell_type": "markdown",
   "metadata": {},
   "source": [
    "** Question 2.6** (10 points) Which are the top 10 cities that generate the most revenues from Rock (and Roll) music? Show three columns: `City`, `Country` and `Total_revenue` "
   ]
  },
  {
   "cell_type": "code",
   "execution_count": null,
   "metadata": {
    "collapsed": true
   },
   "outputs": [],
   "source": [
    "# Question 2.6\n",
    "\n"
   ]
  }
 ],
 "metadata": {
  "kernelspec": {
   "display_name": "Python 3",
   "language": "python",
   "name": "python3"
  },
  "language_info": {
   "codemirror_mode": {
    "name": "ipython",
    "version": 3
   },
   "file_extension": ".py",
   "mimetype": "text/x-python",
   "name": "python",
   "nbconvert_exporter": "python",
   "pygments_lexer": "ipython3",
   "version": "3.6.2"
  }
 },
 "nbformat": 4,
 "nbformat_minor": 2
}
